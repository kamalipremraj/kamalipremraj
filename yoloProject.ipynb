{
  "nbformat": 4,
  "nbformat_minor": 0,
  "metadata": {
    "colab": {
      "provenance": [],
      "toc_visible": true,
      "authorship_tag": "ABX9TyPxQOPK5aiuHdQf+NpeI3Ov",
      "include_colab_link": true
    },
    "kernelspec": {
      "name": "python3",
      "display_name": "Python 3"
    },
    "language_info": {
      "name": "python"
    }
  },
  "cells": [
    {
      "cell_type": "markdown",
      "metadata": {
        "id": "view-in-github",
        "colab_type": "text"
      },
      "source": [
        "<a href=\"https://colab.research.google.com/github/kamalipremraj/kamalipremraj/blob/main/yoloProject.ipynb\" target=\"_parent\"><img src=\"https://colab.research.google.com/assets/colab-badge.svg\" alt=\"Open In Colab\"/></a>"
      ]
    },
    {
      "cell_type": "code",
      "execution_count": null,
      "metadata": {
        "id": "4xHhUdN2C6yW"
      },
      "outputs": [],
      "source": [
        "!pip install ultralytics -q\n",
        "!pip install pyyaml -q"
      ]
    },
    {
      "cell_type": "code",
      "source": [
        "from ultralytics import YOLO\n",
        "import yaml\n",
        "import cv2\n",
        "from google.colab.patches import cv2_imshow\n"
      ],
      "metadata": {
        "id": "FfvF64JFDzn3"
      },
      "execution_count": null,
      "outputs": []
    },
    {
      "cell_type": "code",
      "source": [
        "model=YOLO(\"yolov8m.pt\")"
      ],
      "metadata": {
        "colab": {
          "base_uri": "https://localhost:8080/"
        },
        "id": "qg-VltB_Dz-W",
        "outputId": "c86d415b-2343-4082-9b43-633e53524004"
      },
      "execution_count": null,
      "outputs": [
        {
          "output_type": "stream",
          "name": "stderr",
          "text": [
            "Downloading https://github.com/ultralytics/assets/releases/download/v0.0.0/yolov8m.pt to yolov8m.pt...\n",
            "100%|██████████| 49.7M/49.7M [00:00<00:00, 146MB/s]\n"
          ]
        }
      ]
    },
    {
      "cell_type": "markdown",
      "source": [
        "# New Section"
      ],
      "metadata": {
        "id": "ekGfmliwrV14"
      }
    },
    {
      "cell_type": "code",
      "source": [
        "model.predict(\"/pet.jpg\",save=True)"
      ],
      "metadata": {
        "colab": {
          "base_uri": "https://localhost:8080/"
        },
        "id": "V7i5HuWKH_m9",
        "outputId": "13417f20-a607-4e77-b709-850e75ff74c4"
      },
      "execution_count": null,
      "outputs": [
        {
          "output_type": "stream",
          "name": "stderr",
          "text": [
            "\n",
            "image 1/1 /pet.jpg: 384x640 1 dog, 1295.1ms\n",
            "Speed: 14.8ms preprocess, 1295.1ms inference, 25.8ms postprocess per image at shape (1, 3, 640, 640)\n",
            "Results saved to \u001b[1mruns/detect/predict\u001b[0m\n"
          ]
        },
        {
          "output_type": "execute_result",
          "data": {
            "text/plain": [
              "[ultralytics.yolo.engine.results.Results object with attributes:\n",
              " \n",
              " boxes: ultralytics.yolo.engine.results.Boxes object\n",
              " keypoints: None\n",
              " keys: ['boxes']\n",
              " masks: None\n",
              " names: {0: 'person', 1: 'bicycle', 2: 'car', 3: 'motorcycle', 4: 'airplane', 5: 'bus', 6: 'train', 7: 'truck', 8: 'boat', 9: 'traffic light', 10: 'fire hydrant', 11: 'stop sign', 12: 'parking meter', 13: 'bench', 14: 'bird', 15: 'cat', 16: 'dog', 17: 'horse', 18: 'sheep', 19: 'cow', 20: 'elephant', 21: 'bear', 22: 'zebra', 23: 'giraffe', 24: 'backpack', 25: 'umbrella', 26: 'handbag', 27: 'tie', 28: 'suitcase', 29: 'frisbee', 30: 'skis', 31: 'snowboard', 32: 'sports ball', 33: 'kite', 34: 'baseball bat', 35: 'baseball glove', 36: 'skateboard', 37: 'surfboard', 38: 'tennis racket', 39: 'bottle', 40: 'wine glass', 41: 'cup', 42: 'fork', 43: 'knife', 44: 'spoon', 45: 'bowl', 46: 'banana', 47: 'apple', 48: 'sandwich', 49: 'orange', 50: 'broccoli', 51: 'carrot', 52: 'hot dog', 53: 'pizza', 54: 'donut', 55: 'cake', 56: 'chair', 57: 'couch', 58: 'potted plant', 59: 'bed', 60: 'dining table', 61: 'toilet', 62: 'tv', 63: 'laptop', 64: 'mouse', 65: 'remote', 66: 'keyboard', 67: 'cell phone', 68: 'microwave', 69: 'oven', 70: 'toaster', 71: 'sink', 72: 'refrigerator', 73: 'book', 74: 'clock', 75: 'vase', 76: 'scissors', 77: 'teddy bear', 78: 'hair drier', 79: 'toothbrush'}\n",
              " orig_img: array([[[218, 231, 239],\n",
              "         [219, 232, 240],\n",
              "         [219, 232, 240],\n",
              "         ...,\n",
              "         [ 38, 177, 156],\n",
              "         [ 38, 177, 156],\n",
              "         [ 38, 177, 156]],\n",
              " \n",
              "        [[218, 231, 239],\n",
              "         [218, 231, 239],\n",
              "         [219, 232, 240],\n",
              "         ...,\n",
              "         [ 48, 184, 166],\n",
              "         [ 48, 185, 164],\n",
              "         [ 48, 184, 166]],\n",
              " \n",
              "        [[214, 230, 237],\n",
              "         [215, 231, 238],\n",
              "         [215, 231, 238],\n",
              "         ...,\n",
              "         [ 62, 194, 178],\n",
              "         [ 62, 194, 177],\n",
              "         [ 62, 194, 178]],\n",
              " \n",
              "        ...,\n",
              " \n",
              "        [[ 38,  43,  58],\n",
              "         [ 28,  33,  48],\n",
              "         [ 22,  27,  42],\n",
              "         ...,\n",
              "         [ 24,  38,  57],\n",
              "         [ 25,  39,  58],\n",
              "         [ 25,  39,  58]],\n",
              " \n",
              "        [[ 42,  49,  64],\n",
              "         [ 34,  43,  57],\n",
              "         [ 34,  41,  56],\n",
              "         ...,\n",
              "         [ 26,  40,  59],\n",
              "         [ 26,  40,  59],\n",
              "         [ 27,  41,  60]],\n",
              " \n",
              "        [[ 40,  49,  63],\n",
              "         [ 33,  44,  58],\n",
              "         [ 38,  47,  61],\n",
              "         ...,\n",
              "         [ 28,  42,  61],\n",
              "         [ 29,  43,  62],\n",
              "         [ 29,  43,  62]]], dtype=uint8)\n",
              " orig_shape: (167, 301)\n",
              " path: '/pet.jpg'\n",
              " probs: None\n",
              " speed: {'preprocess': 14.793157577514648, 'inference': 1295.090675354004, 'postprocess': 25.80571174621582}]"
            ]
          },
          "metadata": {},
          "execution_count": 14
        }
      ]
    },
    {
      "cell_type": "code",
      "source": [],
      "metadata": {
        "id": "ZeoFTqRoH_4P"
      },
      "execution_count": null,
      "outputs": []
    },
    {
      "cell_type": "code",
      "source": [
        "from google.colab import drive\n",
        "drive.mount('/content/drive')"
      ],
      "metadata": {
        "id": "UCVKGNmbMiJb"
      },
      "execution_count": null,
      "outputs": []
    }
  ]
}