{
  "nbformat": 4,
  "nbformat_minor": 0,
  "metadata": {
    "colab": {
      "provenance": [],
      "authorship_tag": "ABX9TyO7KQXOlbID70q9maGMStXi",
      "include_colab_link": true
    },
    "kernelspec": {
      "name": "python3",
      "display_name": "Python 3"
    },
    "language_info": {
      "name": "python"
    }
  },
  "cells": [
    {
      "cell_type": "markdown",
      "metadata": {
        "id": "view-in-github",
        "colab_type": "text"
      },
      "source": [
        "<a href=\"https://colab.research.google.com/github/kamalipremraj/kamalipremraj/blob/main/yoloProject.ipynb\" target=\"_parent\"><img src=\"https://colab.research.google.com/assets/colab-badge.svg\" alt=\"Open In Colab\"/></a>"
      ]
    },
    {
      "cell_type": "code",
      "execution_count": 1,
      "metadata": {
        "id": "4xHhUdN2C6yW",
        "colab": {
          "base_uri": "https://localhost:8080/"
        },
        "outputId": "d9605867-b034-4401-f46b-f28e2eb14a23"
      },
      "outputs": [
        {
          "output_type": "stream",
          "name": "stdout",
          "text": [
            "\u001b[?25l     \u001b[90m━━━━━━━━━━━━━━━━━━━━━━━━━━━━━━━━━━━━━━━━\u001b[0m \u001b[32m0.0/599.6 kB\u001b[0m \u001b[31m?\u001b[0m eta \u001b[36m-:--:--\u001b[0m\r\u001b[2K     \u001b[91m━━━━━━━━━━━━━━━━━━━━━━━━━━━━━━━━━━━━━\u001b[0m\u001b[91m╸\u001b[0m \u001b[32m593.9/599.6 kB\u001b[0m \u001b[31m21.0 MB/s\u001b[0m eta \u001b[36m0:00:01\u001b[0m\r\u001b[2K     \u001b[90m━━━━━━━━━━━━━━━━━━━━━━━━━━━━━━━━━━━━━━\u001b[0m \u001b[32m599.6/599.6 kB\u001b[0m \u001b[31m16.1 MB/s\u001b[0m eta \u001b[36m0:00:00\u001b[0m\n",
            "\u001b[?25h"
          ]
        }
      ],
      "source": [
        "!pip install ultralytics -q\n",
        "!pip install pyyaml -q"
      ]
    },
    {
      "cell_type": "code",
      "source": [
        "from ultralytics import YOLO\n",
        "import yaml\n",
        "import cv2\n",
        "from google.colab.patches import cv2_imshow\n"
      ],
      "metadata": {
        "id": "FfvF64JFDzn3"
      },
      "execution_count": 2,
      "outputs": []
    },
    {
      "cell_type": "code",
      "source": [
        "model=YOLO(\"yolov8m.pt\")"
      ],
      "metadata": {
        "colab": {
          "base_uri": "https://localhost:8080/"
        },
        "id": "qg-VltB_Dz-W",
        "outputId": "0d456c19-2e2c-446b-c098-ab365ba1a6de"
      },
      "execution_count": 3,
      "outputs": [
        {
          "output_type": "stream",
          "name": "stderr",
          "text": [
            "Downloading https://github.com/ultralytics/assets/releases/download/v0.0.0/yolov8m.pt to yolov8m.pt...\n",
            "100%|██████████| 49.7M/49.7M [00:00<00:00, 64.3MB/s]\n"
          ]
        }
      ]
    },
    {
      "cell_type": "markdown",
      "source": [
        "# New Section"
      ],
      "metadata": {
        "id": "ekGfmliwrV14"
      }
    },
    {
      "cell_type": "code",
      "source": [
        "model.predict(\"/content/pet.jpg\",save=True)"
      ],
      "metadata": {
        "colab": {
          "base_uri": "https://localhost:8080/"
        },
        "id": "V7i5HuWKH_m9",
        "outputId": "fd27d553-a956-466b-8636-ffce1643ba76"
      },
      "execution_count": 6,
      "outputs": [
        {
          "output_type": "stream",
          "name": "stderr",
          "text": [
            "\n",
            "image 1/1 /content/pet.jpg: 384x640 1 dog, 738.2ms\n",
            "Speed: 13.2ms preprocess, 738.2ms inference, 21.1ms postprocess per image at shape (1, 3, 640, 640)\n",
            "Results saved to \u001b[1mruns/detect/predict\u001b[0m\n"
          ]
        },
        {
          "output_type": "execute_result",
          "data": {
            "text/plain": [
              "[ultralytics.yolo.engine.results.Results object with attributes:\n",
              " \n",
              " boxes: ultralytics.yolo.engine.results.Boxes object\n",
              " keypoints: None\n",
              " keys: ['boxes']\n",
              " masks: None\n",
              " names: {0: 'person', 1: 'bicycle', 2: 'car', 3: 'motorcycle', 4: 'airplane', 5: 'bus', 6: 'train', 7: 'truck', 8: 'boat', 9: 'traffic light', 10: 'fire hydrant', 11: 'stop sign', 12: 'parking meter', 13: 'bench', 14: 'bird', 15: 'cat', 16: 'dog', 17: 'horse', 18: 'sheep', 19: 'cow', 20: 'elephant', 21: 'bear', 22: 'zebra', 23: 'giraffe', 24: 'backpack', 25: 'umbrella', 26: 'handbag', 27: 'tie', 28: 'suitcase', 29: 'frisbee', 30: 'skis', 31: 'snowboard', 32: 'sports ball', 33: 'kite', 34: 'baseball bat', 35: 'baseball glove', 36: 'skateboard', 37: 'surfboard', 38: 'tennis racket', 39: 'bottle', 40: 'wine glass', 41: 'cup', 42: 'fork', 43: 'knife', 44: 'spoon', 45: 'bowl', 46: 'banana', 47: 'apple', 48: 'sandwich', 49: 'orange', 50: 'broccoli', 51: 'carrot', 52: 'hot dog', 53: 'pizza', 54: 'donut', 55: 'cake', 56: 'chair', 57: 'couch', 58: 'potted plant', 59: 'bed', 60: 'dining table', 61: 'toilet', 62: 'tv', 63: 'laptop', 64: 'mouse', 65: 'remote', 66: 'keyboard', 67: 'cell phone', 68: 'microwave', 69: 'oven', 70: 'toaster', 71: 'sink', 72: 'refrigerator', 73: 'book', 74: 'clock', 75: 'vase', 76: 'scissors', 77: 'teddy bear', 78: 'hair drier', 79: 'toothbrush'}\n",
              " orig_img: array([[[218, 231, 239],\n",
              "         [219, 232, 240],\n",
              "         [219, 232, 240],\n",
              "         ...,\n",
              "         [ 38, 177, 156],\n",
              "         [ 38, 177, 156],\n",
              "         [ 38, 177, 156]],\n",
              " \n",
              "        [[218, 231, 239],\n",
              "         [218, 231, 239],\n",
              "         [219, 232, 240],\n",
              "         ...,\n",
              "         [ 48, 184, 166],\n",
              "         [ 48, 185, 164],\n",
              "         [ 48, 184, 166]],\n",
              " \n",
              "        [[214, 230, 237],\n",
              "         [215, 231, 238],\n",
              "         [215, 231, 238],\n",
              "         ...,\n",
              "         [ 62, 194, 178],\n",
              "         [ 62, 194, 177],\n",
              "         [ 62, 194, 178]],\n",
              " \n",
              "        ...,\n",
              " \n",
              "        [[ 38,  43,  58],\n",
              "         [ 28,  33,  48],\n",
              "         [ 22,  27,  42],\n",
              "         ...,\n",
              "         [ 24,  38,  57],\n",
              "         [ 25,  39,  58],\n",
              "         [ 25,  39,  58]],\n",
              " \n",
              "        [[ 42,  49,  64],\n",
              "         [ 34,  43,  57],\n",
              "         [ 34,  41,  56],\n",
              "         ...,\n",
              "         [ 26,  40,  59],\n",
              "         [ 26,  40,  59],\n",
              "         [ 27,  41,  60]],\n",
              " \n",
              "        [[ 40,  49,  63],\n",
              "         [ 33,  44,  58],\n",
              "         [ 38,  47,  61],\n",
              "         ...,\n",
              "         [ 28,  42,  61],\n",
              "         [ 29,  43,  62],\n",
              "         [ 29,  43,  62]]], dtype=uint8)\n",
              " orig_shape: (167, 301)\n",
              " path: '/content/pet.jpg'\n",
              " probs: None\n",
              " speed: {'preprocess': 13.178348541259766, 'inference': 738.1935119628906, 'postprocess': 21.062374114990234}]"
            ]
          },
          "metadata": {},
          "execution_count": 6
        }
      ]
    },
    {
      "cell_type": "code",
      "source": [
        "#from google.colab import drive\n",
        "#drive.mount('/content/drive')"
      ],
      "metadata": {
        "id": "UCVKGNmbMiJb"
      },
      "execution_count": 8,
      "outputs": []
    }
  ]
}